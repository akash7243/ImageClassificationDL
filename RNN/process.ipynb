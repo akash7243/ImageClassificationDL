{
 "cells": [
  {
   "cell_type": "markdown",
   "metadata": {},
   "source": [
    "Convert images to grayscale and then invert them."
   ]
  },
  {
   "cell_type": "code",
   "execution_count": 4,
   "metadata": {},
   "outputs": [],
   "source": [
    "import os\n",
    "import cv2 as cv\n",
    "import glob\n",
    "\n",
    "in_path = r'C:\\Users\\akash\\Downloads\\custom_data_orig'\n",
    "os.mkdir(r'C:\\Users\\akash\\Downloads\\custom_processed')\n",
    "\n",
    "i=0\n",
    "\n",
    "for img in glob.glob(in_path+\"\\*.jpg\"):\n",
    "    img_gray = cv.imread(img, 0)\n",
    "    img_res = cv.resize(img_gray, (28,28))\n",
    "    img_fin = cv.bitwise_not(img_res)\n",
    "    img_fin = img_fin/255\n",
    "    cv.imwrite(r'C:\\Users\\akash\\Downloads\\custom_processed\\img%i.jpg'%i, img_fin)\n",
    "    i+=1"
   ]
  },
  {
   "cell_type": "code",
   "execution_count": null,
   "metadata": {},
   "outputs": [],
   "source": []
  }
 ],
 "metadata": {
  "kernelspec": {
   "display_name": "Aqil",
   "language": "python",
   "name": "aqil"
  },
  "language_info": {
   "codemirror_mode": {
    "name": "ipython",
    "version": 3
   },
   "file_extension": ".py",
   "mimetype": "text/x-python",
   "name": "python",
   "nbconvert_exporter": "python",
   "pygments_lexer": "ipython3",
   "version": "3.9.12"
  },
  "orig_nbformat": 4,
  "vscode": {
   "interpreter": {
    "hash": "df5a8b7b8b35045f1e1586c8b8fc1d6276864f32cec1e5d990f308dbf138b1f6"
   }
  }
 },
 "nbformat": 4,
 "nbformat_minor": 2
}
